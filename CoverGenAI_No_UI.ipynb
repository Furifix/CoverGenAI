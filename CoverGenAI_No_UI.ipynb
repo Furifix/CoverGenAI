{
  "cells": [
    {
      "cell_type": "markdown",
      "metadata": {
        "id": "view-in-github",
        "colab_type": "text"
      },
      "source": [
        "<a href=\"https://colab.research.google.com/github/Furifix/CoverGenAI/blob/main/CoverGenAI_No_UI.ipynb\" target=\"_parent\"><img src=\"https://colab.research.google.com/assets/colab-badge.svg\" alt=\"Open In Colab\"/></a>"
      ]
    },
    {
      "cell_type": "markdown",
      "metadata": {
        "id": "PNIn-NKDjYJ3"
      },
      "source": [
        "https://github.com/ardha27/AICoverGen-NoUI-Colab"
      ]
    },
    {
      "cell_type": "code",
      "execution_count": null,
      "metadata": {
        "id": "9pc1cXR_MSZ3"
      },
      "outputs": [],
      "source": [
        "#@title Clone repository\n",
        "!git clone https://github.com/SociallyIneptWeeb/AICoverGen.git\n",
        "%cd AICoverGen"
      ]
    },
    {
      "cell_type": "code",
      "execution_count": null,
      "metadata": {
        "colab": {
          "base_uri": "https://localhost:8080/"
        },
        "id": "LgBrHbFtMVaa",
        "outputId": "b9adec2e-e9be-4652-ac3e-294c9762990c"
      },
      "outputs": [
        {
          "output_type": "stream",
          "name": "stdout",
          "text": [
            "\u001b[2K     \u001b[90m━━━━━━━━━━━━━━━━━━━━━━━━━━━━━━━━━━━━━━━━\u001b[0m \u001b[32m52.0/52.0 kB\u001b[0m \u001b[31m1.8 MB/s\u001b[0m eta \u001b[36m0:00:00\u001b[0m\n",
            "\u001b[2K     \u001b[90m━━━━━━━━━━━━━━━━━━━━━━━━━━━━━━━━━━━━━━━━\u001b[0m \u001b[32m9.6/9.6 MB\u001b[0m \u001b[31m61.8 MB/s\u001b[0m eta \u001b[36m0:00:00\u001b[0m\n",
            "\u001b[?25h"
          ]
        }
      ],
      "source": [
        "#@title Install requirements\n",
        "!pip install -q -r requirements.txt\n",
        "!sudo apt update\n",
        "!sudo apt install sox"
      ]
    },
    {
      "cell_type": "code",
      "execution_count": null,
      "metadata": {
        "cellView": "form",
        "id": "w0q4k7WyMXHX"
      },
      "outputs": [],
      "source": [
        "#@title Download MDXNet Vocal Separation and Hubert Base Models\n",
        "!python src/download_models.py"
      ]
    },
    {
      "cell_type": "code",
      "execution_count": null,
      "metadata": {
        "cellView": "form",
        "id": "9aMm_NgjUH4T"
      },
      "outputs": [],
      "source": [
        "#@title Model Download Function\n",
        "\n",
        "import os\n",
        "import zipfile\n",
        "import shutil\n",
        "import urllib.request\n",
        "\n",
        "BASE_DIR = os.getcwd()\n",
        "rvc_models_dir = os.path.join(BASE_DIR, 'rvc_models')\n",
        "\n",
        "def extract_zip(extraction_folder, zip_name):\n",
        "    os.makedirs(extraction_folder)\n",
        "    with zipfile.ZipFile(zip_name, 'r') as zip_ref:\n",
        "        zip_ref.extractall(extraction_folder)\n",
        "    os.remove(zip_name)\n",
        "\n",
        "    index_filepath, model_filepath = None, None\n",
        "    for root, dirs, files in os.walk(extraction_folder):\n",
        "        for name in files:\n",
        "            if name.endswith('.index') and os.stat(os.path.join(root, name)).st_size > 1024 * 100:\n",
        "                index_filepath = os.path.join(root, name)\n",
        "\n",
        "            if name.endswith('.pth') and os.stat(os.path.join(root, name)).st_size > 1024 * 1024 * 40:\n",
        "                model_filepath = os.path.join(root, name)\n",
        "\n",
        "    if not model_filepath:\n",
        "        raise Exception(f'No .pth model file was found in the extracted zip. Please check {extraction_folder}.')\n",
        "\n",
        "    # move model and index file to extraction folder\n",
        "    os.rename(model_filepath, os.path.join(extraction_folder, os.path.basename(model_filepath)))\n",
        "    if index_filepath:\n",
        "        os.rename(index_filepath, os.path.join(extraction_folder, os.path.basename(index_filepath)))\n",
        "\n",
        "    # remove any unnecessary nested folders\n",
        "    for filepath in os.listdir(extraction_folder):\n",
        "        if os.path.isdir(os.path.join(extraction_folder, filepath)):\n",
        "            shutil.rmtree(os.path.join(extraction_folder, filepath))\n",
        "\n",
        "def download_online_model(url, dir_name):\n",
        "    try:\n",
        "        print(f'[~] Downloading voice model with name {dir_name}...')\n",
        "        zip_name = url.split('/')[-1]\n",
        "        extraction_folder = os.path.join(rvc_models_dir, dir_name)\n",
        "        if os.path.exists(extraction_folder):\n",
        "            raise Exception(f'Voice model directory {dir_name} already exists! Choose a different name for your voice model.')\n",
        "\n",
        "        if 'pixeldrain.com' in url:\n",
        "            url = f'https://pixeldrain.com/api/file/{zip_name}'\n",
        "\n",
        "        urllib.request.urlretrieve(url, zip_name)\n",
        "\n",
        "        print('[~] Extracting zip...')\n",
        "        extract_zip(extraction_folder, zip_name)\n",
        "        print(f'[+] {dir_name} Model successfully downloaded!')\n",
        "\n",
        "    except Exception as e:\n",
        "        raise Exception(str(e))\n",
        "\n",
        "url = \"https://huggingface.co/Finn12312/BastiAI/resolve/main/BastiAI.zip\" # @param {type:\"string\"}\n",
        "dir_name = \"BastiAI\" # @param {type:\"string\"}\n",
        "\n",
        "download_online_model(url, dir_name)"
      ]
    },
    {
      "cell_type": "code",
      "execution_count": null,
      "metadata": {
        "id": "B3BqnUoePVGd"
      },
      "outputs": [],
      "source": [
        "# @title Generate | Output generated inside \"AICoverGen\\song_output\\random_number\"\n",
        "# @markdown Main Option | You also can input audio path inside \"SONG_INPUT\"\n",
        "SONG_INPUT = \"https://www.youtube.com/watch?v=ZyhrYis509A\" # @param {type:\"string\"}\n",
        "RVC_DIRNAME = \"BastiAI\" # @param {type:\"string\"}\n",
        "PITCH_CHANGE = -18 # @param {type:\"integer\"}\n",
        "PITCH_CHANGE_ALL = 0 # @param {type:\"integer\"}\n",
        "# @markdown Voice Conversion Options\n",
        "INDEX_RATE = 0.5 # @param {type:\"number\"}\n",
        "FILTER_RADIUS = 3 # @param {type:\"integer\"}\n",
        "PITCH_DETECTION_ALGO = \"rmvpe\" # @param [\"rmvpe\", \"mangio-crepe\"]\n",
        "CREPE_HOP_LENGTH = 128 # @param {type:\"integer\"}\n",
        "PROTECT = 0.33 # @param {type:\"number\"}\n",
        "REMIX_MIX_RATE = 0.25  # @param {type:\"number\"}\n",
        "# @markdown Audio Mixing Options\n",
        "MAIN_VOL = 0 # @param {type:\"integer\"}\n",
        "BACKUP_VOL = 0 # @param {type:\"integer\"}\n",
        "INST_VOL = 0 # @param {type:\"integer\"}\n",
        "# @markdown Reverb Control\n",
        "REVERB_SIZE = 0.15 # @param {type:\"number\"}\n",
        "REVERB_WETNESS = 0.2 # @param {type:\"number\"}\n",
        "REVERB_DRYNESS = 0.8 # @param {type:\"number\"}\n",
        "REVERB_DAMPING = 0.7 # @param {type:\"number\"}\n",
        "# @markdown Output Format\n",
        "OUTPUT_FORMAT = \"mp3\" # @param [\"mp3\", \"wav\"]\n",
        "\n",
        "import subprocess\n",
        "\n",
        "command = [\n",
        "    \"python\",\n",
        "    \"src/main.py\",\n",
        "    \"-i\", SONG_INPUT,\n",
        "    \"-dir\", RVC_DIRNAME,\n",
        "    \"-p\", str(PITCH_CHANGE),\n",
        "    \"-k\",\n",
        "    \"-ir\", str(INDEX_RATE),\n",
        "    \"-fr\", str(FILTER_RADIUS),\n",
        "    \"-rms\", str(REMIX_MIX_RATE),\n",
        "    \"-palgo\", PITCH_DETECTION_ALGO,\n",
        "    \"-hop\", str(CREPE_HOP_LENGTH),\n",
        "    \"-pro\", str(PROTECT),\n",
        "    \"-mv\", str(MAIN_VOL),\n",
        "    \"-bv\", str(BACKUP_VOL),\n",
        "    \"-iv\", str(INST_VOL),\n",
        "    \"-pall\", str(PITCH_CHANGE_ALL),\n",
        "    \"-rsize\", str(REVERB_SIZE),\n",
        "    \"-rwet\", str(REVERB_WETNESS),\n",
        "    \"-rdry\", str(REVERB_DRYNESS),\n",
        "    \"-rdamp\", str(REVERB_DAMPING),\n",
        "    \"-oformat\", OUTPUT_FORMAT\n",
        "]\n",
        "\n",
        "# Open a subprocess and capture its output\n",
        "process = subprocess.Popen(command, stdout=subprocess.PIPE, stderr=subprocess.STDOUT, universal_newlines=True)\n",
        "\n",
        "# Print the output in real-time\n",
        "for line in process.stdout:\n",
        "    print(line, end='')\n",
        "\n",
        "# Wait for the process to finish\n",
        "process.wait()"
      ]
    },
    {
      "cell_type": "markdown",
      "metadata": {
        "id": "7Hs7P0QYHHZJ"
      },
      "source": [
        "Example of generated audio path\n",
        "\n",
        "![image_2023-09-20_182238723.png](data:image/png;base64,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)"
      ]
    }
  ],
  "metadata": {
    "accelerator": "GPU",
    "colab": {
      "provenance": [],
      "include_colab_link": true
    },
    "kernelspec": {
      "display_name": "Python 3",
      "name": "python3"
    },
    "language_info": {
      "name": "python"
    }
  },
  "nbformat": 4,
  "nbformat_minor": 0
}